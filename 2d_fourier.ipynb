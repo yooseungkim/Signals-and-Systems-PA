{
 "cells": [
  {
   "attachments": {},
   "cell_type": "markdown",
   "metadata": {},
   "source": [
    "# 2D Fourier Transform"
   ]
  },
  {
   "cell_type": "code",
   "execution_count": 1,
   "metadata": {},
   "outputs": [],
   "source": [
    "from PIL import Image\n",
    "import cv2\n",
    "import matplotlib.pyplot as plt\n",
    "import numpy as np\n",
    "images = [ cv2.imread(\"./data/00{}.jpg\".format(i), cv2.IMREAD_GRAYSCALE) for i in range(1, 7)] \n",
    "import time"
   ]
  },
  {
   "attachments": {},
   "cell_type": "markdown",
   "metadata": {},
   "source": [
    "## Matrix Multiplication"
   ]
  },
  {
   "cell_type": "code",
   "execution_count": 5,
   "metadata": {},
   "outputs": [],
   "source": [
    "class Matrix:\n",
    "    def __init__(self, data):\n",
    "        self.data = data\n",
    "    \n",
    "    def __repr__(self):\n",
    "        return self.data.__repr__()\n",
    "    \n",
    "    def __getitem__(self, i):\n",
    "        return self.data[i]\n",
    "    \n",
    "    def __truediv__(self, denom):\n",
    "        div_mat = self.zeros()\n",
    "        for i in range(self.shape[0]):\n",
    "            for j in range(self.shape[1]):\n",
    "                div_mat[i][j] = self[i][j] / denom \n",
    "        return Matrix(div_mat)\n",
    "    \n",
    "    def __len__(self):\n",
    "        return len(self.data), len(self.data[0])\n",
    "    @property \n",
    "    def zeros(self):\n",
    "        return [[0 for _ in range(self.shape[1])] for _ in range(self.shape[0])]\n",
    "    \n",
    "    @property\n",
    "    def shape(self):\n",
    "        return (len(self.data), len(self.data[0]))\n",
    "    \n",
    "    def round(self, n=8):\n",
    "        rounded = self.zeros\n",
    "        for i in range(self.shape[0]):\n",
    "            for j in range(self.shape[1]):\n",
    "                re = self.data[i][j].real\n",
    "                im = self.data[i][j].imag\n",
    "                if im == 0:\n",
    "                    rounded[i][j] = round(re, n)\n",
    "                else:\n",
    "                    rounded[i][j] = round(re, n) + round(im, n) * 1j\n",
    "        return Matrix(rounded)\n",
    "        \n",
    "    \n",
    "    def matmul(self, B):\n",
    "        # result = [[0 for _ in range(B.shape[1])] for _ in range(self.shape[0])]\n",
    "        # for i in range(self.shape[0]):\n",
    "        #     for j in range(B.shape[1]):\n",
    "        #         sum = 0\n",
    "        #         for k in range(self.shape[1]):\n",
    "        #             sum += self[i][k] * B[k][j]\n",
    "        #         result[i][j] = sum \n",
    "        # return Matrix(result)\n",
    "        return Matrix(np.matmul(self.data, B.data))\n",
    "    \n",
    "    @property\n",
    "    def transpose(self):\n",
    "        result = [[0 for _ in range(self.shape[0])] for _ in range(self.shape[1])]\n",
    "        for i in range(self.shape[0]):\n",
    "            for j in range(self.shape[1]):\n",
    "                result[j][i] = self[i][j]\n",
    "                \n",
    "    @property\n",
    "    def exp_mu(self, reverse = False):\n",
    "        M = self.shape[0]\n",
    "        result = [[0 for _ in range(M)] for _ in range(M)]\n",
    "        for u in range(M):\n",
    "            for m in range(M):\n",
    "                if reverse:\n",
    "                    result[m][u] = np.exp(2j* np.pi * m * u / M )\n",
    "                else: \n",
    "                    result[m][u] = np.exp(-2j* np.pi * m * u / M )\n",
    "        return Matrix(result)\n",
    "    @property\n",
    "    def exp_nu(self, reverse = True):\n",
    "        N = self.shape[1]\n",
    "        result = [[0 for _ in range(N)] for _ in range(N)]\n",
    "        for v in range(N):\n",
    "            for n in range(N):\n",
    "                if reverse:\n",
    "                    result[n][v] = np.exp(2j* np.pi * n * v / N )\n",
    "                else:\n",
    "                    result[n][v] = np.exp(-2j* np.pi * n * v / N )\n",
    "                \n",
    "        return Matrix(result)\n",
    "    \n",
    "    def re_im(self):\n",
    "        re = self.zeros\n",
    "        im = self.zeros\n",
    "        for i in range(self.shape[0]):\n",
    "            for j in range(self.shape[1]):\n",
    "                re[i][j] = self[i][j].real\n",
    "                im[i][j] = self[i][j].imag\n",
    "        return Matrix(re), Matrix(im) \n",
    "    \n",
    "    @property\n",
    "    def magnitude(self):\n",
    "        mag = self.zeros\n",
    "        for i in range(self.shape[0]):\n",
    "            for j in range(self.shape[1]):\n",
    "                mag[i][j] = abs(self[i][j])\n",
    "        return Matrix(mag)\n",
    "    \n",
    "    def shift(self):\n",
    "        return Matrix(np.fft.fftshift(self.data))\n",
    "    \n",
    "    def show(self):\n",
    "        mat = self.shift().magnitude.round(0)\n",
    "        plt.imshow(mat.data, cmap='gray')\n",
    "            \n",
    "A = Matrix([[1, 2, 3], [4, 5, 6]])\n",
    "B = Matrix([[1, 2], [3, 4], [5, 6]])"
   ]
  },
  {
   "attachments": {},
   "cell_type": "markdown",
   "metadata": {},
   "source": [
    "## 2D Fourier Transform"
   ]
  },
  {
   "cell_type": "code",
   "execution_count": 6,
   "metadata": {},
   "outputs": [],
   "source": [
    "def fft2(img: Matrix): \n",
    "    M, N = img.shape \n",
    "    print(\"processing... might take a while\")\n",
    "    fourier = img.exp_mu.matmul(img).matmul(img.exp_nu) \n",
    "    fourier.round()\n",
    "    print(\"process ended\")\n",
    "    return fourier\n",
    "\n",
    "def inverse_fft2(img: Matrix):\n",
    "    M, N = img.shape \n",
    "    inv_fourier = img.exp_nu(reversed = True).matmul(img).matmul(img.exp_mu(reversed = True))\n",
    "    inv_fourier.round()\n",
    "    return inv_fourier"
   ]
  },
  {
   "cell_type": "code",
   "execution_count": 7,
   "metadata": {},
   "outputs": [
    {
     "name": "stdout",
     "output_type": "stream",
     "text": [
      "processing... might take a while\n",
      "process ended\n",
      "[[ 6.45052100e+06     +0.j         -1.81076869e+06+358510.37551327j\n",
      "  -3.63252791e+05+369521.00585044j ...  2.24452403e+05+134518.25566535j\n",
      "  -3.63252791e+05-369521.00585043j -1.81076869e+06-358510.37551321j]\n",
      " [-1.12781460e+06-256690.12216659j  2.37613074e+05-174682.77095576j\n",
      "   2.70990317e+05-408490.6023802j  ...  2.69694676e+04 +51928.24433348j\n",
      "   4.74440241e+05+618894.58920607j  2.34476450e+05-460432.86490163j]\n",
      " [-1.17115301e+05-499075.19373302j  4.13450826e+05-298398.54516473j\n",
      "  -1.84818004e+05-306781.99533241j ... -9.00537719e+04 -35861.77325114j\n",
      "  -3.91914362e+03 +31039.63578145j  1.82997532e+05+106634.37018424j]\n",
      " ...\n",
      " [-6.09638567e+05+185655.85730444j  1.87700723e+05-426762.76471979j\n",
      "   8.87406310e+04 +16969.25939901j ...  2.40760644e+05 -57806.53135033j\n",
      "  -1.76640744e+05-368998.42652828j  2.84201452e+05+364306.50572387j]\n",
      " [-1.17115301e+05+499075.19373299j  1.82997532e+05-106634.37018419j\n",
      "  -3.91914362e+03 -31039.63578148j ...  1.61456109e+05-357716.98596994j\n",
      "  -1.84818004e+05+306781.99533244j  4.13450826e+05+298398.54516475j]\n",
      " [-1.12781460e+06+256690.12216653j  2.34476450e+05+460432.86490162j\n",
      "   4.74440241e+05-618894.58920608j ... -3.54098302e+05+176969.43118223j\n",
      "   2.70990317e+05+408490.6023802j   2.37613074e+05+174682.77095574j]]\n"
     ]
    }
   ],
   "source": [
    "img = Matrix(images[0])\n",
    "fft_img = fft2(img)\n",
    "print(fft_img.data)"
   ]
  },
  {
   "attachments": {},
   "cell_type": "markdown",
   "metadata": {},
   "source": [
    "## Azimuthal Averaging"
   ]
  },
  {
   "cell_type": "code",
   "execution_count": 10,
   "metadata": {},
   "outputs": [],
   "source": [
    "def azimuthal_averaging(img: Matrix):\n",
    "    h, w = img.shape \n",
    "    center = (h // 2, w // 2) \n",
    "    max_radius = np.sqrt(center[0] ** 2 + center[1] ** 2) \n",
    "    if max_radius != int(max_radius):\n",
    "        max_radius += 1\n",
    "    max_radius = int(max_radius)\n",
    "    cum_sum_freq = np.array([0 for _ in range(max_radius)])\n",
    "    pixels = np.array([0 for _ in range(max_radius)])\n",
    "    \n",
    "    for i in range(h):\n",
    "        for j in range(w):\n",
    "            radius = np.sqrt((i - center[0]) ** 2 + (j - center[1]) ** 2)\n",
    "            cum_sum_freq[int(radius)] += img[i][j]\n",
    "            pixels[int(radius)] += 1\n",
    "    cum_sum_freq = cum_sum_freq / pixels \n",
    "    cum_sum_freq = np.sort(cum_sum_freq)[::-1]\n",
    "    return cum_sum_freq\n",
    "    "
   ]
  },
  {
   "cell_type": "code",
   "execution_count": 11,
   "metadata": {},
   "outputs": [],
   "source": [
    "fft_mag = fft_img.magnitude.round(0)\n",
    "az = azimuthal_averaging(fft_mag)"
   ]
  },
  {
   "cell_type": "code",
   "execution_count": 13,
   "metadata": {},
   "outputs": [
    {
     "data": {
      "text/plain": [
       "array([3.38078567e+06, 5.43457500e+05, 4.04389875e+05, 2.08816067e+05,\n",
       "       1.36831947e+05, 8.99875000e+04, 6.21369655e+04, 5.71527241e+04,\n",
       "       4.02056667e+04, 3.25965814e+04, 2.60798537e+04, 2.14522264e+04,\n",
       "       2.00154677e+04, 2.00085472e+04, 1.64366324e+04, 1.38988308e+04,\n",
       "       1.33681467e+04, 1.18907237e+04, 1.05778276e+04, 9.37210753e+03,\n",
       "       8.51364583e+03, 7.51977551e+03, 6.56214706e+03, 6.46656000e+03,\n",
       "       5.16113274e+03, 5.00675781e+03, 4.78265217e+03, 4.69656204e+03,\n",
       "       3.93227027e+03, 3.73497203e+03, 3.56433775e+03, 3.31323926e+03,\n",
       "       2.98415294e+03, 2.78259195e+03, 2.70709091e+03, 2.57174603e+03,\n",
       "       2.46885782e+03, 2.34934762e+03, 2.22760169e+03, 2.10112556e+03,\n",
       "       2.04365203e+03, 1.98750279e+03, 1.57071080e+03, 1.49440647e+03,\n",
       "       1.33817288e+03, 1.19954082e+03, 1.16588055e+03, 1.07526733e+03,\n",
       "       1.03605517e+03, 9.94026756e+02, 9.66407801e+02, 9.20714286e+02,\n",
       "       8.74769231e+02, 8.48269504e+02, 8.34533557e+02, 8.30622837e+02,\n",
       "       8.06164430e+02, 7.92303754e+02, 7.66562701e+02, 7.18539792e+02,\n",
       "       7.13576271e+02, 7.13426056e+02, 6.93445161e+02, 6.65440972e+02,\n",
       "       6.51032573e+02, 6.39753994e+02, 6.30382838e+02, 6.19553333e+02,\n",
       "       6.13289340e+02, 6.06229773e+02, 5.88876084e+02, 5.81041237e+02,\n",
       "       5.77689769e+02, 5.73231023e+02, 5.67205696e+02, 5.41679868e+02,\n",
       "       5.28345794e+02, 5.26993311e+02, 5.25009464e+02, 5.14507837e+02,\n",
       "       5.13055215e+02, 5.07697161e+02, 4.99043836e+02, 4.91018809e+02,\n",
       "       4.88931759e+02, 4.81725240e+02, 4.77462396e+02, 4.76453125e+02,\n",
       "       4.73889590e+02, 4.73430341e+02, 4.69738602e+02, 4.69510989e+02,\n",
       "       4.67912023e+02, 4.67682779e+02, 4.61489164e+02, 4.60888218e+02,\n",
       "       4.59962428e+02, 4.53614943e+02, 4.38943114e+02, 3.66642157e+02,\n",
       "       3.61053398e+02, 3.51137566e+02, 3.37443069e+02, 3.14938830e+02,\n",
       "       2.84907767e+02, 2.78753886e+02, 2.66002717e+02, 2.44223404e+02,\n",
       "       2.31663043e+02, 2.16486702e+02, 2.08256614e+02, 2.02636111e+02,\n",
       "       2.01156425e+02, 1.98099462e+02, 1.91733146e+02, 1.72277778e+02,\n",
       "       1.72080000e+02, 1.66988372e+02, 1.62686747e+02, 1.61000000e+02,\n",
       "       1.57054598e+02, 1.55220238e+02, 1.47863095e+02, 1.47071429e+02,\n",
       "       1.44645963e+02, 1.44253205e+02, 1.43684211e+02, 1.39625000e+02,\n",
       "       1.37762048e+02, 1.36325949e+02, 1.34140000e+02, 1.33630435e+02,\n",
       "       1.30275862e+02, 1.30148276e+02, 1.29036184e+02, 1.25115672e+02,\n",
       "       1.23775362e+02, 1.23657534e+02, 1.22007937e+02, 1.21728261e+02,\n",
       "       1.21529412e+02, 1.18054745e+02, 1.17788000e+02, 1.17483333e+02,\n",
       "       1.16634454e+02, 1.16263889e+02, 1.15893130e+02, 1.15823529e+02,\n",
       "       1.15054167e+02, 1.14931452e+02, 1.14500000e+02, 1.12758065e+02,\n",
       "       1.11347015e+02, 1.10988462e+02, 1.10678571e+02, 1.10594828e+02,\n",
       "       1.09866379e+02, 1.08770833e+02, 1.08710280e+02, 1.08233696e+02,\n",
       "       1.07187500e+02, 1.05627551e+02, 1.02615044e+02, 1.01382075e+02,\n",
       "       1.00912088e+02, 1.00077320e+02, 9.94250000e+01, 9.91836735e+01,\n",
       "       9.88827160e+01, 9.88100000e+01, 9.87441860e+01, 9.75234375e+01,\n",
       "       9.75046296e+01, 9.71282051e+01, 9.65265957e+01, 9.59423077e+01,\n",
       "       9.57113402e+01, 9.50058140e+01, 9.49482759e+01, 9.48166667e+01,\n",
       "       9.47500000e+01, 9.34691358e+01, 9.26102941e+01, 9.16184211e+01,\n",
       "       9.15075758e+01, 9.12318841e+01, 9.10000000e+01, 9.09565217e+01,\n",
       "       9.05365854e+01, 9.03150685e+01, 9.02941176e+01, 8.95675676e+01,\n",
       "       8.92083333e+01, 8.91000000e+01, 8.90964912e+01, 8.90937500e+01,\n",
       "       8.88295455e+01, 8.88245614e+01, 8.87045455e+01, 8.83942308e+01,\n",
       "       8.81379310e+01, 8.80319149e+01, 8.75952381e+01, 8.68645833e+01,\n",
       "       8.62419355e+01, 8.55595238e+01, 8.53809524e+01, 8.53644068e+01,\n",
       "       8.41875000e+01, 8.38333333e+01, 8.36176471e+01, 8.34519231e+01,\n",
       "       8.21500000e+01, 8.18548387e+01, 8.18194444e+01, 8.13846154e+01,\n",
       "       8.07500000e+01, 8.03958333e+01, 7.87500000e+01, 7.87300000e+01,\n",
       "       7.80555556e+01, 7.75333333e+01, 7.30000000e+01, 7.16285714e+01,\n",
       "       7.15000000e+01, 7.07857143e+01, 7.03571429e+01, 6.88000000e+01])"
      ]
     },
     "execution_count": 13,
     "metadata": {},
     "output_type": "execute_result"
    }
   ],
   "source": [
    "az"
   ]
  },
  {
   "cell_type": "code",
   "execution_count": null,
   "metadata": {},
   "outputs": [],
   "source": []
  }
 ],
 "metadata": {
  "kernelspec": {
   "display_name": "Python 3",
   "language": "python",
   "name": "python3"
  },
  "language_info": {
   "codemirror_mode": {
    "name": "ipython",
    "version": 3
   },
   "file_extension": ".py",
   "mimetype": "text/x-python",
   "name": "python",
   "nbconvert_exporter": "python",
   "pygments_lexer": "ipython3",
   "version": "3.10.6"
  },
  "orig_nbformat": 4
 },
 "nbformat": 4,
 "nbformat_minor": 2
}

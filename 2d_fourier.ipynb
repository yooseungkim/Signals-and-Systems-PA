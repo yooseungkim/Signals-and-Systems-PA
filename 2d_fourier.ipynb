{
 "cells": [
  {
   "attachments": {},
   "cell_type": "markdown",
   "metadata": {},
   "source": [
    "# 2D Fourier Transform"
   ]
  },
  {
   "cell_type": "code",
   "execution_count": 1,
   "metadata": {},
   "outputs": [
    {
     "data": {
      "text/plain": [
       "48"
      ]
     },
     "execution_count": 1,
     "metadata": {},
     "output_type": "execute_result"
    }
   ],
   "source": [
    "from PIL import Image\n",
    "import cv2\n",
    "import matplotlib.pyplot as plt\n",
    "import numpy as np\n",
    "images = [ cv2.imread(\"./data/00{}.jpg\".format(i), cv2.IMREAD_GRAYSCALE) for i in range(1, 7)] \n",
    "cv2.imshow(\"i\", images[1])\n",
    "cv2.waitKey(0)"
   ]
  },
  {
   "attachments": {},
   "cell_type": "markdown",
   "metadata": {},
   "source": [
    "## Matrix Multiplication"
   ]
  },
  {
   "cell_type": "code",
   "execution_count": 6,
   "metadata": {},
   "outputs": [],
   "source": [
    "class Matrix:\n",
    "    def __init__(self, data):\n",
    "        self.data = data\n",
    "    \n",
    "    def __repr__(self):\n",
    "        return str(self.data)\n",
    "    \n",
    "    def __len__(self):\n",
    "        return self.shape[0]\n",
    "    \n",
    "    def __getitem__(self, i):\n",
    "        return self.data[i]\n",
    "    \n",
    "    @property\n",
    "    def shape(self):\n",
    "        return (len(self.data), len(self.data[0]))\n",
    "    \n",
    "    def matmul(self, B):\n",
    "        result = [[0 for _ in range(B.shape[1])] for _ in range(self.shape[0])]\n",
    "        for i in range(self.shape[0]):\n",
    "            for j in range(B.shape[1]):\n",
    "                sum = 0\n",
    "                for k in range(self.shape[1]):\n",
    "                    sum += self[i][k] * B[k][j]\n",
    "                result[i][j] = sum \n",
    "        return result\n",
    "    \n",
    "    def transpose(self):\n",
    "        result = [[0 for _ in range(self.shape[0])] for _ in range(self.shape[1])]\n",
    "        for i in range(self.shape[0]):\n",
    "            for j in range(self.shape[1]):\n",
    "                result[j][i] = self[i][j]\n",
    "                \n",
    "    \n",
    "    def exp(self):\n",
    "        result = self.data.copy() \n",
    "        for i in range(self.shape[0]):\n",
    "            for j in range(self.shape[1]):\n",
    "                result[i][j] = self[i][j] * np.exp(-2j* np.pi )\n",
    "        return Matrix(result)\n",
    "                \n",
    "    \n",
    "A = Matrix([[1, 2, 3], [4, 5, 6]])\n",
    "B = Matrix([[1, 2], [3, 4], [5, 6]])"
   ]
  },
  {
   "cell_type": "code",
   "execution_count": 8,
   "metadata": {},
   "outputs": [],
   "source": [
    "def fourier(img):\n",
    "    mat = Matrix(img)\n",
    "    M, N = mat.shape \n",
    "    result = [[0 for _ in range(N)] for _ in range(M)]\n",
    "    \n",
    "    for m in range(M):\n",
    "        for n in range(N):\n",
    "            sum = 0\n",
    "            for u in range(M):\n",
    "                for v in range(N):\n",
    "                    sum += mat[u][v] * np.exp(-2j * np.pi * (m * u / M + n * v / N))\n",
    "            result[m][n] = sum \n",
    "    \n",
    "    return Matrix(result)\n",
    "def fourier_2d(img):\n",
    "    mat = Matrix(img) \n",
    "    fourier_1d = fourier(mat) # along x axis \n",
    "    result = fourier(fourier_1d.transpose()).transpose() # along y axis \n",
    "    \n",
    "    \n",
    "    "
   ]
  },
  {
   "cell_type": "code",
   "execution_count": 14,
   "metadata": {},
   "outputs": [
    {
     "data": {
      "text/plain": [
       "[[(30+0j), (-1.500000000000003+0.866025403784435j), (-1.499999999999996-0.8660254037844468j)], [(-6-10.392304845413268j), (3.0000000000000004-1.7320508075688794j), (2.999999999999993+1.7320508075688719j)], [(-6.0000000000000036+10.392304845413257j), (3.0000000000000018-1.732050807568882j), (2.999999999999999+1.7320508075688732j)]]"
      ]
     },
     "execution_count": 14,
     "metadata": {},
     "output_type": "execute_result"
    }
   ],
   "source": [
    "a = [[3,2,1],[5,6,7], [1,2,3]]\n",
    "\n",
    "fourier(a)\n"
   ]
  },
  {
   "cell_type": "code",
   "execution_count": 16,
   "metadata": {},
   "outputs": [],
   "source": [
    "a = 1 + 2j"
   ]
  },
  {
   "cell_type": "code",
   "execution_count": 19,
   "metadata": {},
   "outputs": [
    {
     "data": {
      "text/plain": [
       "2.0"
      ]
     },
     "execution_count": 19,
     "metadata": {},
     "output_type": "execute_result"
    }
   ],
   "source": []
  },
  {
   "cell_type": "code",
   "execution_count": null,
   "metadata": {},
   "outputs": [],
   "source": []
  }
 ],
 "metadata": {
  "kernelspec": {
   "display_name": "Python 3",
   "language": "python",
   "name": "python3"
  },
  "language_info": {
   "codemirror_mode": {
    "name": "ipython",
    "version": 3
   },
   "file_extension": ".py",
   "mimetype": "text/x-python",
   "name": "python",
   "nbconvert_exporter": "python",
   "pygments_lexer": "ipython3",
   "version": "3.10.8"
  },
  "orig_nbformat": 4
 },
 "nbformat": 4,
 "nbformat_minor": 2
}

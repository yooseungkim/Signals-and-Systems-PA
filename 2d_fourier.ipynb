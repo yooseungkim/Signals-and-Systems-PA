{
 "cells": [
  {
   "attachments": {},
   "cell_type": "markdown",
   "metadata": {},
   "source": [
    "# 2D Fourier Transform"
   ]
  },
  {
   "cell_type": "code",
   "execution_count": 169,
   "metadata": {},
   "outputs": [],
   "source": [
    "from PIL import Image\n",
    "import cv2\n",
    "import matplotlib.pyplot as plt\n",
    "import numpy as np\n",
    "images = [ cv2.imread(\"./images/data/00{}.jpg\".format(i), cv2.IMREAD_GRAYSCALE) for i in range(0, 7)] "
   ]
  },
  {
   "cell_type": "code",
   "execution_count": 170,
   "metadata": {},
   "outputs": [],
   "source": [
    "def fft2(img: np.array): \n",
    "    M, N = img.shape \n",
    "    fourier = np.matmul(exp_mu(img), np.matmul(img, exp_nu(img)) )\n",
    "    return fourier\n",
    "\n",
    "def inverse_fft2(img: np.array):\n",
    "    M, N = img.shape \n",
    "    inv_fourier = np.matmul(exp_mu(img, inverse = True), np.matmul(img , exp_nu(img, inverse = True))) / (M * N)\n",
    "    return inv_fourier\n",
    "\n",
    "def highpass(img, radius = 45): \n",
    "    h, w = img.shape[0], img.shape[1]\n",
    "    filtered = [[0 for _ in range(w)] for _ in range(h)]\n",
    "    for i in range(h): \n",
    "        for j in range(w):\n",
    "            distance = ((i - h // 2) ** 2 + (j - w // 2) ** 2)\n",
    "            if distance < radius ** 2:\n",
    "                continue \n",
    "            filtered[i][j] = img[i][j]\n",
    "    return np.array(filtered)\n",
    "    \n",
    "    \n",
    "def exp_mu(img: np.array, inverse = False):\n",
    "    M = img.shape[0]\n",
    "    result = [[0 for _ in range(M)] for _ in range(M)]\n",
    "    for u in range(M):\n",
    "        for m in range(M):\n",
    "            if inverse:\n",
    "                result[u][m] = np.exp(2j* np.pi * m * u / M )\n",
    "            else: \n",
    "                result[u][m] = np.exp(-2j* np.pi * m * u / M )\n",
    "    return np.array(result)\n",
    "\n",
    "def exp_nu(img: np.array, inverse = True):\n",
    "    N = img.shape[1]\n",
    "    result = [[0 for _ in range(N)] for _ in range(N)]\n",
    "    for v in range(N):\n",
    "        for n in range(N):\n",
    "            if inverse:\n",
    "                result[v][n] = np.exp(2j* np.pi * n * v / N )\n",
    "            else:\n",
    "                result[v][n] = np.exp(-2j* np.pi * n * v / N )  \n",
    "    return np.array(result)\n",
    "\n",
    "def shift(img: np.array):    \n",
    "    return np.fft.fftshift(img)\n",
    "\n",
    "def fft_shift(img: np.array):\n",
    "    return np.abs(shift(fft2())).round().astype(np.uint8)\n",
    "\n",
    "def show(img: np.array):\n",
    "    plt.imshow(fft_shift(img), cmap='gray')\n",
    "    "
   ]
  },
  {
   "attachments": {},
   "cell_type": "markdown",
   "metadata": {},
   "source": [
    "## Azimuthal Averaging"
   ]
  },
  {
   "cell_type": "code",
   "execution_count": 216,
   "metadata": {},
   "outputs": [],
   "source": [
    "def azimuthal_averaging(img: np.ndarray):\n",
    "    h, w = img.shape \n",
    "    center = (h // 2, w // 2) \n",
    "    max_radius = np.sqrt(center[0] ** 2 + center[1] ** 2) \n",
    "    if max_radius != int(max_radius):\n",
    "        max_radius += 1\n",
    "    max_radius = int(max_radius)\n",
    "    cum_sum_freq = np.array([0 for _ in range(max_radius)])\n",
    "    pixels = np.array([0 for _ in range(max_radius)])\n",
    "    for i in range(h):\n",
    "        for j in range(w):\n",
    "            radius = int(np.sqrt((i - center[0]) ** 2 + (j - center[1]) ** 2))\n",
    "            cum_sum_freq[radius] += img[i][j]\n",
    "            pixels[radius] += 1\n",
    "    cum_sum_freq = cum_sum_freq / pixels \n",
    "    cum_sum_freq = cum_sum_freq[::-1]\n",
    "    return cum_sum_freq\n",
    "    "
   ]
  },
  {
   "cell_type": "code",
   "execution_count": 132,
   "metadata": {},
   "outputs": [],
   "source": [
    "def pipeline(img, name, center = False,  suffix = \"\"): \n",
    "    h, w = img.shape\n",
    "    if center:\n",
    "        suffix = \"_centered\"\n",
    "        img = img[np.ix_(range(h // 4 , 3 * h // 4), range(w // 4, 3 * w // 4))]\n",
    "    print(img.shape)\n",
    "        \n",
    "    fft_img = fft2(img) \n",
    "    fft_shifted = np.fft.fftshift(fft_img)\n",
    "    highpass_img = highpass(fft_shifted, radius = 45)\n",
    "    plt.imshow(np.log(np.abs(highpass_img)), cmap='gray')\n",
    "    plt.savefig(\"./images/frequency/00{}{}.jpg\".format(name, suffix))\n",
    "    plt.clf()\n",
    "    \n",
    "    inv_fft_img = inverse_fft2(highpass_img)\n",
    "    plt.imshow(np.abs(inv_fft_img), cmap='gray')\n",
    "    plt.savefig(\"./images/highpassed/00{}{}.jpg\".format(name, suffix))\n",
    "    plt.clf()\n",
    "    \n",
    "    return np.abs(inv_fft_img)\n",
    "    "
   ]
  },
  {
   "cell_type": "code",
   "execution_count": 160,
   "metadata": {},
   "outputs": [
    {
     "name": "stdout",
     "output_type": "stream",
     "text": [
      "(332, 332)\n"
     ]
    },
    {
     "name": "stderr",
     "output_type": "stream",
     "text": [
      "/var/folders/x1/tylp6nfj5xnb74kpdk36gzzw0000gn/T/ipykernel_41317/4147936517.py:11: RuntimeWarning: divide by zero encountered in log\n",
      "  plt.imshow(np.log(np.abs(highpass_img)), cmap='gray')\n"
     ]
    },
    {
     "name": "stdout",
     "output_type": "stream",
     "text": [
      "(374, 260)\n",
      "(302, 302)\n",
      "(306, 298)\n",
      "(318, 318)\n",
      "(332, 332)\n",
      "(316, 308)\n"
     ]
    },
    {
     "data": {
      "text/plain": [
       "<Figure size 640x480 with 0 Axes>"
      ]
     },
     "metadata": {},
     "output_type": "display_data"
    }
   ],
   "source": [
    "result =[]\n",
    "for i in range(7):\n",
    "    img = pipeline(images[i], i, center = False)\n",
    "    result.append(img)\n",
    "\n",
    "res = [] \n",
    "\n",
    "for img in result: \n",
    "    h, w = img.shape \n",
    "    val = 0\n",
    "    for i in range(h):\n",
    "        for j in range(w):\n",
    "            val += img[i][j] * np.exp(-np.sqrt((i - h // 2) ** 2 +  (j - w // 2) ** 2))\n",
    "            \n",
    "    res.append(val)"
   ]
  },
  {
   "cell_type": "code",
   "execution_count": 164,
   "metadata": {},
   "outputs": [
    {
     "name": "stdout",
     "output_type": "stream",
     "text": [
      "(166, 166)\n"
     ]
    },
    {
     "name": "stderr",
     "output_type": "stream",
     "text": [
      "/var/folders/x1/tylp6nfj5xnb74kpdk36gzzw0000gn/T/ipykernel_41317/4147936517.py:11: RuntimeWarning: divide by zero encountered in log\n",
      "  plt.imshow(np.log(np.abs(highpass_img)), cmap='gray')\n"
     ]
    },
    {
     "name": "stdout",
     "output_type": "stream",
     "text": [
      "(187, 130)\n",
      "(151, 151)\n",
      "(153, 149)\n",
      "(159, 159)\n",
      "(166, 166)\n",
      "(158, 154)\n"
     ]
    },
    {
     "data": {
      "text/plain": [
       "<Figure size 640x480 with 0 Axes>"
      ]
     },
     "metadata": {},
     "output_type": "display_data"
    }
   ],
   "source": [
    "centered_result = []\n",
    "for i in range(7):\n",
    "    img = pipeline(images[i], i, center = True)\n",
    "    centered_result.append(img)\n",
    "\n",
    "centered_res = [] \n",
    "\n",
    "for img in centered_result: \n",
    "    h, w = img.shape \n",
    "    val = 0\n",
    "    for i in range(h):\n",
    "        for j in range(w):\n",
    "            val += img[i][j] * np.exp(-np.sqrt((i - h // 2) ** 2 +  (j - w // 2) ** 2))\n",
    "            \n",
    "    centered_res.append(val)"
   ]
  },
  {
   "cell_type": "code",
   "execution_count": 167,
   "metadata": {},
   "outputs": [
    {
     "data": {
      "text/plain": [
       "[8.006833820733114,\n",
       " 2.046315945387563,\n",
       " 9.691831836819809,\n",
       " 19.453395251597062,\n",
       " 21.200994740227998,\n",
       " 4.143174289671995,\n",
       " 25.76897682311935]"
      ]
     },
     "execution_count": 167,
     "metadata": {},
     "output_type": "execute_result"
    }
   ],
   "source": [
    "res"
   ]
  },
  {
   "cell_type": "code",
   "execution_count": 168,
   "metadata": {},
   "outputs": [
    {
     "data": {
      "text/plain": [
       "[5.502374353254851,\n",
       " 1.589088533510345,\n",
       " 2.1940765105225637,\n",
       " 6.345025710244663,\n",
       " 6.0616962690927325,\n",
       " 2.2441757837065146,\n",
       " 15.373336955214201]"
      ]
     },
     "execution_count": 168,
     "metadata": {},
     "output_type": "execute_result"
    }
   ],
   "source": [
    "centered_res"
   ]
  },
  {
   "cell_type": "code",
   "execution_count": 248,
   "metadata": {},
   "outputs": [],
   "source": [
    "def azimuthal_average(img):\n",
    "    h, w = img.shape\n",
    "    frequency = [0 for _ in range(int(np.hypot(h // 2, w // 2)) + 1)]\n",
    "    distance_count = [0 for _ in range(int(np.hypot(h // 2, w // 2)) + 1)]\n",
    "    for i in range(h):\n",
    "        for j in range(w):\n",
    "            distance = int(np.hypot(i - h // 2, j - w // 2))\n",
    "            distance_count[distance] += 1\n",
    "            frequency[distance] += np.log(img[i][j])\n",
    "    frequency = np.array(frequency)\n",
    "    distance_count = np.array(distance_count) \n",
    "    print(frequency, max(frequency))\n",
    "    frequency = frequency / distance_count\n",
    "    \n",
    "    return frequency\n",
    "    \n",
    "            \n",
    "            "
   ]
  },
  {
   "cell_type": "code",
   "execution_count": 249,
   "metadata": {},
   "outputs": [],
   "source": [
    "fft_img = np.abs(np.log(np.fft.fftshift(fft2(images[0]))))"
   ]
  },
  {
   "cell_type": "code",
   "execution_count": 250,
   "metadata": {},
   "outputs": [
    {
     "name": "stdout",
     "output_type": "stream",
     "text": [
      "[   2.77125815   20.71522302   40.47147117   50.99091956   60.41754029\n",
      "   97.89015884   88.51726477  114.94045706  133.71470202  134.67769201\n",
      "  160.48821136  151.56918044  187.00116612  214.53362878  204.20434621\n",
      "  223.51354736  220.93513871  265.90045852  274.02286535  271.28333883\n",
      "  280.52418176  323.99479789  305.39531044  311.22848309  337.10907349\n",
      "  371.46005692  389.25976365  361.53376051  369.7771611   419.08186983\n",
      "  412.81688633  454.31061     434.46995074  452.01668339  492.3189154\n",
      "  450.78545117  499.70345836  489.07557893  548.25898738  530.32451665\n",
      "  501.27716798  581.97125289  563.50999602  611.39224506  583.35834512\n",
      "  572.89981532  621.97067681  615.74821819  652.0922533   642.17012657\n",
      "  699.42057695  680.1785383   656.24713859  716.93085463  675.39582196\n",
      "  781.99758132  716.15172872  750.60449752  756.93070618  768.44261851\n",
      "  819.35915637  799.61690747  812.20511188  826.44377062  801.98830027\n",
      "  891.72672181  824.26732633  869.38948441  921.30492773  853.51419923\n",
      "  913.30585561  870.572215    978.4503349   940.59069813  941.48737416\n",
      "  968.17433534  970.62150311 1005.60959052  962.71571926  999.72610758\n",
      " 1048.63181894 1003.52352852 1077.72434724 1015.09900553 1070.17354236\n",
      " 1097.41609732 1081.88613453 1107.07616406 1048.5649641  1200.03082854\n",
      " 1100.57456064 1148.78416569 1156.60017361 1167.28874857 1213.62862075\n",
      " 1154.37331398 1192.36658025 1249.91590028 1200.46754647 1273.72364182\n",
      " 1207.75455997 1312.53158528 1275.07036189 1237.15971234 1326.5932601\n",
      " 1270.0818963  1367.2247613  1324.34938832 1310.43094081 1346.44500448\n",
      " 1348.23013928 1415.99757429 1375.65980263 1394.030904   1460.38349114\n",
      " 1417.74817021 1402.33724214 1448.131997   1477.30666295 1474.97743514\n",
      " 1476.69762852 1440.53737212 1502.32449179 1607.61446307 1462.3530447\n",
      " 1568.67955886 1466.03832434 1587.6673412  1595.87937929 1529.79882275\n",
      " 1629.60144947 1560.62767319 1672.0367049  1626.74118981 1549.868811\n",
      " 1701.40977986 1646.38472884 1685.57100539 1658.97700056 1636.99467583\n",
      " 1751.04894829 1688.3106492  1718.55583619 1735.38195754 1757.01661641\n",
      " 1795.07673285 1748.54555163 1746.07069537 1825.2985902  1810.51125498\n",
      " 1816.57388509 1760.91513025 1864.35350492 1817.50121755 1908.90495863\n",
      " 1832.40711677 1862.1043109  1938.26618356 1831.03634644 1908.75854599\n",
      " 1905.9632194  2016.71206413 1954.62661839 1900.78940341 1975.70370244\n",
      " 1961.89119049 1904.55577351 1602.72953908 1506.31997765 1559.35522542\n",
      " 1423.95013113 1376.16743003 1284.37475607 1316.78918015 1272.8032051\n",
      " 1159.47012468 1173.52596564 1081.5394726  1140.11644898 1048.63891172\n",
      "  994.08857292 1026.02554803  987.88716391  977.0024367   863.72232749\n",
      "  881.54514432  904.75050003  799.8210792   846.60874795  779.55558799\n",
      "  755.79207564  766.08981451  670.3357876   756.93065484  650.42548596\n",
      "  665.25541843  649.71692734  573.77548577  648.65097924  534.55548342\n",
      "  589.32540043  525.98271685  513.18309432  522.50097443  436.61053954\n",
      "  513.23100129  428.88291982  446.09615135  413.63456902  361.95190828\n",
      "  415.64481507  345.05791136  373.89272565  316.86755436  308.44387428\n",
      "  305.02759395  248.56289126  303.03438865  227.74879727  238.2641854\n",
      "  232.85240389  146.91618476  252.5840127   124.57960517  195.05377535\n",
      "  118.49687377  118.11389596  124.7769776    65.24746957  108.99544067\n",
      "   44.20710631   65.52891459   21.83337032   14.23073711    9.15338585] 2016.7120641270799\n"
     ]
    },
    {
     "data": {
      "text/plain": [
       "[<matplotlib.lines.Line2D at 0x16c241c90>]"
      ]
     },
     "execution_count": 250,
     "metadata": {},
     "output_type": "execute_result"
    },
    {
     "data": {
      "image/png": "[encoded data removed]",
      "text/plain": [
       "<Figure size 640x480 with 1 Axes>"
      ]
     },
     "metadata": {},
     "output_type": "display_data"
    }
   ],
   "source": [
    "az2 = azimuthal_average(fft_img)\n",
    "plt.plot(az2)"
   ]
  },
  {
   "cell_type": "code",
   "execution_count": null,
   "metadata": {},
   "outputs": [],
   "source": []
  }
 ],
 "metadata": {
  "kernelspec": {
   "display_name": "Python 3",
   "language": "python",
   "name": "python3"
  },
  "language_info": {
   "codemirror_mode": {
    "name": "ipython",
    "version": 3
   },
   "file_extension": ".py",
   "mimetype": "text/x-python",
   "name": "python",
   "nbconvert_exporter": "python",
   "pygments_lexer": "ipython3",
   "version": "3.10.8"
  },
  "orig_nbformat": 4
 },
 "nbformat": 4,
 "nbformat_minor": 2
}

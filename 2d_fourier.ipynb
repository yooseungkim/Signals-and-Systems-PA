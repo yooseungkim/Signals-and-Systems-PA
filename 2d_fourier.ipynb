{
 "cells": [
  {
   "attachments": {},
   "cell_type": "markdown",
   "metadata": {},
   "source": [
    "# 2D Fourier Transform"
   ]
  },
  {
   "cell_type": "code",
   "execution_count": 1,
   "metadata": {},
   "outputs": [],
   "source": [
    "from PIL import Image\n",
    "import cv2\n",
    "import matplotlib.pyplot as plt\n",
    "import numpy as np\n",
    "images = [ cv2.imread(\"./images/data/00{}.jpg\".format(i), cv2.IMREAD_GRAYSCALE) for i in range(0, 7)] "
   ]
  },
  {
   "cell_type": "code",
   "execution_count": 2,
   "metadata": {},
   "outputs": [],
   "source": [
    "def fft2(img: np.array): \n",
    "    M, N = img.shape \n",
    "    fourier = np.matmul(exp_mu(img), np.matmul(img, exp_nu(img)) )\n",
    "    return fourier\n",
    "\n",
    "def inverse_fft2(img: np.array):\n",
    "    M, N = img.shape \n",
    "    inv_fourier = np.matmul(exp_mu(img, inverse = True), np.matmul(img , exp_nu(img, inverse = True))) / (M * N)\n",
    "    return inv_fourier\n",
    "\n",
    "def highpass(img, radius = 45): \n",
    "    h, w = img.shape[0], img.shape[1]\n",
    "    filtered = [[0 for _ in range(w)] for _ in range(h)]\n",
    "    for i in range(h): \n",
    "        for j in range(w):\n",
    "            distance = ((i - h // 2) ** 2 + (j - w // 2) ** 2)\n",
    "            if distance < radius ** 2:\n",
    "                continue \n",
    "            filtered[i][j] = img[i][j]\n",
    "    return np.array(filtered)\n",
    "    \n",
    "    \n",
    "def exp_mu(img: np.array, inverse = False):\n",
    "    M = img.shape[0]\n",
    "    result = [[0 for _ in range(M)] for _ in range(M)]\n",
    "    for u in range(M):\n",
    "        for m in range(M):\n",
    "            if inverse:\n",
    "                result[u][m] = np.exp(2j* np.pi * m * u / M )\n",
    "            else: \n",
    "                result[u][m] = np.exp(-2j* np.pi * m * u / M )\n",
    "    return np.array(result)\n",
    "\n",
    "def exp_nu(img: np.array, inverse = True):\n",
    "    N = img.shape[1]\n",
    "    result = [[0 for _ in range(N)] for _ in range(N)]\n",
    "    for v in range(N):\n",
    "        for n in range(N):\n",
    "            if inverse:\n",
    "                result[v][n] = np.exp(2j* np.pi * n * v / N )\n",
    "            else:\n",
    "                result[v][n] = np.exp(-2j* np.pi * n * v / N )  \n",
    "    return np.array(result)\n",
    "\n",
    "def shift(img: np.array):    \n",
    "    return np.fft.fftshift(img)\n",
    "\n",
    "def fft_shift(img: np.array):\n",
    "    return np.abs(shift(fft2())).round().astype(np.uint8)\n",
    "\n",
    "def show(img: np.array):\n",
    "    plt.imshow(fft_shift(img), cmap='gray')\n",
    "    "
   ]
  },
  {
   "attachments": {},
   "cell_type": "markdown",
   "metadata": {},
   "source": [
    "## Azimuthal Averaging"
   ]
  },
  {
   "cell_type": "code",
   "execution_count": 3,
   "metadata": {},
   "outputs": [],
   "source": [
    "def azimuthal_averaging(img: np.ndarray):\n",
    "    h, w = img.shape \n",
    "    center = (h // 2, w // 2) \n",
    "    max_radius = np.sqrt(center[0] ** 2 + center[1] ** 2) \n",
    "    if max_radius != int(max_radius):\n",
    "        max_radius += 1\n",
    "    max_radius = int(max_radius)\n",
    "    cum_sum_freq = np.array([0 for _ in range(max_radius)])\n",
    "    pixels = np.array([0 for _ in range(max_radius)])\n",
    "    for i in range(h):\n",
    "        for j in range(w):\n",
    "            radius = int(np.sqrt((i - center[0]) ** 2 + (j - center[1]) ** 2))\n",
    "            cum_sum_freq[radius] += img[i][j]\n",
    "            pixels[radius] += 1\n",
    "    cum_sum_freq = cum_sum_freq / pixels \n",
    "    cum_sum_freq = cum_sum_freq[::-1]\n",
    "    return cum_sum_freq\n",
    "    "
   ]
  },
  {
   "cell_type": "code",
   "execution_count": 132,
   "metadata": {},
   "outputs": [],
   "source": [
    "def pipeline(img, name, center = False,  suffix = \"\"): \n",
    "    h, w = img.shape\n",
    "    if center:\n",
    "        suffix = \"_centered\"\n",
    "        img = img[np.ix_(range(h // 4 , 3 * h // 4), range(w // 4, 3 * w // 4))]\n",
    "    print(img.shape)\n",
    "        \n",
    "    fft_img = fft2(img) \n",
    "    fft_shifted = np.fft.fftshift(fft_img)\n",
    "    highpass_img = highpass(fft_shifted, radius = 45)\n",
    "    plt.imshow(np.log(np.abs(highpass_img)), cmap='gray')\n",
    "    plt.savefig(\"./images/frequency/00{}{}.jpg\".format(name, suffix))\n",
    "    plt.clf()\n",
    "    \n",
    "    inv_fft_img = inverse_fft2(highpass_img)\n",
    "    plt.imshow(np.abs(inv_fft_img), cmap='gray')\n",
    "    plt.savefig(\"./images/highpassed/00{}{}.jpg\".format(name, suffix))\n",
    "    plt.clf()\n",
    "    \n",
    "    return np.abs(inv_fft_img)\n",
    "    "
   ]
  },
  {
   "cell_type": "code",
   "execution_count": 160,
   "metadata": {},
   "outputs": [
    {
     "name": "stdout",
     "output_type": "stream",
     "text": [
      "(332, 332)\n"
     ]
    },
    {
     "name": "stderr",
     "output_type": "stream",
     "text": [
      "/var/folders/x1/tylp6nfj5xnb74kpdk36gzzw0000gn/T/ipykernel_41317/4147936517.py:11: RuntimeWarning: divide by zero encountered in log\n",
      "  plt.imshow(np.log(np.abs(highpass_img)), cmap='gray')\n"
     ]
    },
    {
     "name": "stdout",
     "output_type": "stream",
     "text": [
      "(374, 260)\n",
      "(302, 302)\n",
      "(306, 298)\n",
      "(318, 318)\n",
      "(332, 332)\n",
      "(316, 308)\n"
     ]
    },
    {
     "data": {
      "text/plain": [
       "<Figure size 640x480 with 0 Axes>"
      ]
     },
     "metadata": {},
     "output_type": "display_data"
    }
   ],
   "source": [
    "result =[]\n",
    "for i in range(7):\n",
    "    img = pipeline(images[i], i, center = False)\n",
    "    result.append(img)\n",
    "\n",
    "res = [] \n",
    "\n",
    "for img in result: \n",
    "    h, w = img.shape \n",
    "    val = 0\n",
    "    for i in range(h):\n",
    "        for j in range(w):\n",
    "            val += img[i][j] * np.exp(-np.sqrt((i - h // 2) ** 2 +  (j - w // 2) ** 2))\n",
    "            \n",
    "    res.append(val)"
   ]
  },
  {
   "cell_type": "code",
   "execution_count": 164,
   "metadata": {},
   "outputs": [
    {
     "name": "stdout",
     "output_type": "stream",
     "text": [
      "(166, 166)\n"
     ]
    },
    {
     "name": "stderr",
     "output_type": "stream",
     "text": [
      "/var/folders/x1/tylp6nfj5xnb74kpdk36gzzw0000gn/T/ipykernel_41317/4147936517.py:11: RuntimeWarning: divide by zero encountered in log\n",
      "  plt.imshow(np.log(np.abs(highpass_img)), cmap='gray')\n"
     ]
    },
    {
     "name": "stdout",
     "output_type": "stream",
     "text": [
      "(187, 130)\n",
      "(151, 151)\n",
      "(153, 149)\n",
      "(159, 159)\n",
      "(166, 166)\n",
      "(158, 154)\n"
     ]
    },
    {
     "data": {
      "text/plain": [
       "<Figure size 640x480 with 0 Axes>"
      ]
     },
     "metadata": {},
     "output_type": "display_data"
    }
   ],
   "source": [
    "centered_result = []\n",
    "for i in range(7):\n",
    "    img = pipeline(images[i], i, center = True)\n",
    "    centered_result.append(img)\n",
    "\n",
    "centered_res = [] \n",
    "\n",
    "for img in centered_result: \n",
    "    h, w = img.shape \n",
    "    val = 0\n",
    "    for i in range(h):\n",
    "        for j in range(w):\n",
    "            val += img[i][j] * np.exp(-np.sqrt((i - h // 2) ** 2 +  (j - w // 2) ** 2))\n",
    "            \n",
    "    centered_res.append(val)"
   ]
  },
  {
   "cell_type": "code",
   "execution_count": 167,
   "metadata": {},
   "outputs": [
    {
     "data": {
      "text/plain": [
       "[8.006833820733114,\n",
       " 2.046315945387563,\n",
       " 9.691831836819809,\n",
       " 19.453395251597062,\n",
       " 21.200994740227998,\n",
       " 4.143174289671995,\n",
       " 25.76897682311935]"
      ]
     },
     "execution_count": 167,
     "metadata": {},
     "output_type": "execute_result"
    }
   ],
   "source": [
    "res"
   ]
  },
  {
   "cell_type": "code",
   "execution_count": 168,
   "metadata": {},
   "outputs": [
    {
     "data": {
      "text/plain": [
       "[5.502374353254851,\n",
       " 1.589088533510345,\n",
       " 2.1940765105225637,\n",
       " 6.345025710244663,\n",
       " 6.0616962690927325,\n",
       " 2.2441757837065146,\n",
       " 15.373336955214201]"
      ]
     },
     "execution_count": 168,
     "metadata": {},
     "output_type": "execute_result"
    }
   ],
   "source": [
    "centered_res"
   ]
  },
  {
   "cell_type": "code",
   "execution_count": null,
   "metadata": {},
   "outputs": [],
   "source": []
  }
 ],
 "metadata": {
  "kernelspec": {
   "display_name": "Python 3",
   "language": "python",
   "name": "python3"
  },
  "language_info": {
   "codemirror_mode": {
    "name": "ipython",
    "version": 3
   },
   "file_extension": ".py",
   "mimetype": "text/x-python",
   "name": "python",
   "nbconvert_exporter": "python",
   "pygments_lexer": "ipython3",
   "version": "3.10.8"
  },
  "orig_nbformat": 4
 },
 "nbformat": 4,
 "nbformat_minor": 2
}

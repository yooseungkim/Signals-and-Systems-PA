{
 "cells": [
  {
   "attachments": {},
   "cell_type": "markdown",
   "metadata": {},
   "source": [
    "# 2D Fourier Transform"
   ]
  },
  {
   "cell_type": "code",
   "execution_count": 1,
   "metadata": {},
   "outputs": [],
   "source": [
    "from PIL import Image\n",
    "import cv2\n",
    "import matplotlib.pyplot as plt\n",
    "import numpy as np\n",
    "images = [ cv2.imread(\"./data/00{}.jpg\".format(i), cv2.IMREAD_GRAYSCALE) for i in range(1, 7)] \n",
    "import time"
   ]
  },
  {
   "attachments": {},
   "cell_type": "markdown",
   "metadata": {},
   "source": [
    "## Matrix Multiplication"
   ]
  },
  {
   "cell_type": "code",
   "execution_count": 40,
   "metadata": {},
   "outputs": [],
   "source": [
    "class Matrix:\n",
    "    def __init__(self, data):\n",
    "        self.data = data\n",
    "    \n",
    "    def __repr__(self):\n",
    "        return self.data.__repr__()\n",
    "    \n",
    "    def __getitem__(self, i):\n",
    "        return self.data[i]\n",
    "    \n",
    "    def __truediv__(self, denom):\n",
    "        div_mat = self.zeros()\n",
    "        for i in range(self.shape[0]):\n",
    "            for j in range(self.shape[1]):\n",
    "                div_mat[i][j] = self[i][j] / denom \n",
    "        return Matrix(div_mat)\n",
    "    \n",
    "    def __len__(self):\n",
    "        return len(self.data), len(self.data[0])\n",
    "    @property \n",
    "    def zeros(self):\n",
    "        return [[0 for _ in range(self.shape[1])] for _ in range(self.shape[0])]\n",
    "    \n",
    "    @property\n",
    "    def shape(self):\n",
    "        return (len(self.data), len(self.data[0]))\n",
    "    \n",
    "    def round(self, n=8):\n",
    "        rounded = self.zeros\n",
    "        for i in range(self.shape[0]):\n",
    "            for j in range(self.shape[1]):\n",
    "                re = self.data[i][j].real\n",
    "                im = self.data[i][j].imag\n",
    "                if im == 0:\n",
    "                    rounded[i][j] = round(re, n)\n",
    "                else:\n",
    "                    rounded[i][j] = round(re, n) + round(im, n) * 1j\n",
    "        return Matrix(rounded)\n",
    "        \n",
    "    \n",
    "    def matmul(self, B):\n",
    "        result = [[0 for _ in range(B.shape[1])] for _ in range(self.shape[0])]\n",
    "        for i in range(self.shape[0]):\n",
    "            for j in range(B.shape[1]):\n",
    "                sum = 0\n",
    "                for k in range(self.shape[1]):\n",
    "                    sum += self[i][k] * B[k][j]\n",
    "                result[i][j] = sum \n",
    "        return Matrix(result)\n",
    "    \n",
    "    @property\n",
    "    def transpose(self):\n",
    "        result = [[0 for _ in range(self.shape[0])] for _ in range(self.shape[1])]\n",
    "        for i in range(self.shape[0]):\n",
    "            for j in range(self.shape[1]):\n",
    "                result[j][i] = self[i][j]\n",
    "                \n",
    "    @property\n",
    "    def exp_mu(self, reverse = False):\n",
    "        M = self.shape[0]\n",
    "        result = [[0 for _ in range(M)] for _ in range(M)]\n",
    "        for u in range(M):\n",
    "            for m in range(M):\n",
    "                if reverse:\n",
    "                    result[m][u] = np.exp(2j* np.pi * m * u / M )\n",
    "                else: \n",
    "                    result[m][u] = np.exp(-2j* np.pi * m * u / M )\n",
    "        return Matrix(result)\n",
    "    @property\n",
    "    def exp_nu(self, reverse = True):\n",
    "        N = self.shape[1]\n",
    "        result = [[0 for _ in range(N)] for _ in range(N)]\n",
    "        for v in range(N):\n",
    "            for n in range(N):\n",
    "                if reverse:\n",
    "                    result[n][v] = np.exp(2j* np.pi * n * v / N )\n",
    "                else:\n",
    "                    result[n][v] = np.exp(-2j* np.pi * n * v / N )\n",
    "                \n",
    "        return Matrix(result)\n",
    "    \n",
    "    def re_im(self):\n",
    "        re = self.zeros\n",
    "        im = self.zeros\n",
    "        for i in range(self.shape[0]):\n",
    "            for j in range(self.shape[1]):\n",
    "                re[i][j] = self[i][j].real\n",
    "                im[i][j] = self[i][j].imag\n",
    "        return Matrix(re), Matrix(im) \n",
    "    \n",
    "    @property\n",
    "    def magnitude(self):\n",
    "        mag = self.zeros\n",
    "        for i in range(self.shape[0]):\n",
    "            for j in range(self.shape[1]):\n",
    "                mag[i][j] = abs(self[i][j])\n",
    "        return Matrix(mag)\n",
    "    \n",
    "    def shift(self):\n",
    "        return Matrix(np.fft.fftshift(self.data))\n",
    "    \n",
    "    def show(self):\n",
    "        mat = self.shift().magnitude.round(0)\n",
    "        plt.imshow(mat.data, cmap='gray')\n",
    "            \n",
    "A = Matrix([[1, 2, 3], [4, 5, 6]])\n",
    "B = Matrix([[1, 2], [3, 4], [5, 6]])"
   ]
  },
  {
   "attachments": {},
   "cell_type": "markdown",
   "metadata": {},
   "source": [
    "## 2D Fourier Transform"
   ]
  },
  {
   "cell_type": "code",
   "execution_count": 52,
   "metadata": {},
   "outputs": [],
   "source": [
    "def fft2(img: Matrix): \n",
    "    M, N = img.shape \n",
    "    print(\"processing... might take a while\")\n",
    "    fourier = img.exp_mu.matmul(img).matmul(img.exp_nu) \n",
    "    fourier.round()\n",
    "    print(\"process ended\")\n",
    "    return fourier\n",
    "\n",
    "def inverse_fft2(img: Matrix):\n",
    "    M, N = img.shape \n",
    "    print(\"processing... might take a while\")\n",
    "    inv_fourier = img.exp_nu(reversed = True).matmul(img).matmul(img.exp_mu(reversed = True))\n",
    "    inv_fourier.round()\n",
    "    print(\"process ended\")\n",
    "    return inv_fourier"
   ]
  },
  {
   "cell_type": "code",
   "execution_count": 53,
   "metadata": {},
   "outputs": [
    {
     "name": "stdout",
     "output_type": "stream",
     "text": [
      "processing... might take a while\n"
     ]
    }
   ],
   "source": [
    "img = Matrix(images[0])\n",
    "fft_img = fft2(img)"
   ]
  },
  {
   "attachments": {},
   "cell_type": "markdown",
   "metadata": {},
   "source": [
    "## Azimuthal Averaging"
   ]
  },
  {
   "cell_type": "code",
   "execution_count": 43,
   "metadata": {},
   "outputs": [],
   "source": [
    "def azimuthal_averaging(img: Matrix):\n",
    "    h, w = img.shape \n",
    "    center = (h // 2, w // 2) \n",
    "    max_radius = np.sqrt(center[0] ** 2 + center[1] ** 2) \n",
    "    if max_radius != int(max_radius):\n",
    "        max_radius += 1\n",
    "    max_radius = int(max_radius)\n",
    "    cum_sum_freq = [0 for _ in range(max_radius)]\n",
    "    \n",
    "    for i in range(h):\n",
    "        for j in range(w):\n",
    "            radius = np.sqrt((i - center[0]) ** 2 + (j - center[1]) ** 2)\n",
    "            cum_sum_freq[int(radius)] += img[i][j]\n",
    "            \n",
    "    cum_sum_freq.sort(reverse= True)\n",
    "    return cum_sum_freq\n",
    "    "
   ]
  },
  {
   "cell_type": "code",
   "execution_count": 44,
   "metadata": {},
   "outputs": [],
   "source": [
    "fft_mag = fft_img.magnitude.round(0)\n",
    "az = azimuthal_averaging(fft_mag)"
   ]
  },
  {
   "cell_type": "code",
   "execution_count": 50,
   "metadata": {},
   "outputs": [
    {
     "name": "stdout",
     "output_type": "stream",
     "text": [
      "processing... might take a while\n"
     ]
    },
    {
     "ename": "TypeError",
     "evalue": "Matrix.matmul() got an unexpected keyword argument 'reverse'",
     "output_type": "error",
     "traceback": [
      "\u001b[0;31m---------------------------------------------------------------------------\u001b[0m",
      "\u001b[0;31mTypeError\u001b[0m                                 Traceback (most recent call last)",
      "\u001b[1;32m/Users/yooseungkim/Library/Mobile Documents/com~apple~CloudDocs/College/Signals and Systems/PA/2d_fourier.ipynb Cell 11\u001b[0m in \u001b[0;36m1\n\u001b[0;32m----> <a href='vscode-notebook-cell:/Users/yooseungkim/Library/Mobile%20Documents/com~apple~CloudDocs/College/Signals%20and%20Systems/PA/2d_fourier.ipynb#X54sZmlsZQ%3D%3D?line=0'>1</a>\u001b[0m inv_fft \u001b[39m=\u001b[39m inverse_fft2(fft_img)\n",
      "\u001b[1;32m/Users/yooseungkim/Library/Mobile Documents/com~apple~CloudDocs/College/Signals and Systems/PA/2d_fourier.ipynb Cell 11\u001b[0m in \u001b[0;36m1\n\u001b[1;32m     <a href='vscode-notebook-cell:/Users/yooseungkim/Library/Mobile%20Documents/com~apple~CloudDocs/College/Signals%20and%20Systems/PA/2d_fourier.ipynb#X54sZmlsZQ%3D%3D?line=9'>10</a>\u001b[0m M, N \u001b[39m=\u001b[39m img\u001b[39m.\u001b[39mshape \n\u001b[1;32m     <a href='vscode-notebook-cell:/Users/yooseungkim/Library/Mobile%20Documents/com~apple~CloudDocs/College/Signals%20and%20Systems/PA/2d_fourier.ipynb#X54sZmlsZQ%3D%3D?line=10'>11</a>\u001b[0m \u001b[39mprint\u001b[39m(\u001b[39m\"\u001b[39m\u001b[39mprocessing... might take a while\u001b[39m\u001b[39m\"\u001b[39m)\n\u001b[0;32m---> <a href='vscode-notebook-cell:/Users/yooseungkim/Library/Mobile%20Documents/com~apple~CloudDocs/College/Signals%20and%20Systems/PA/2d_fourier.ipynb#X54sZmlsZQ%3D%3D?line=11'>12</a>\u001b[0m inv_fourier \u001b[39m=\u001b[39m img\u001b[39m.\u001b[39;49mexp_mu\u001b[39m.\u001b[39;49mmatmul(img, reverse\u001b[39m=\u001b[39;49m\u001b[39mTrue\u001b[39;49;00m)\u001b[39m.\u001b[39mmatmul(img\u001b[39m.\u001b[39mexp_nu, reverse\u001b[39m=\u001b[39m\u001b[39mTrue\u001b[39;00m) \n\u001b[1;32m     <a href='vscode-notebook-cell:/Users/yooseungkim/Library/Mobile%20Documents/com~apple~CloudDocs/College/Signals%20and%20Systems/PA/2d_fourier.ipynb#X54sZmlsZQ%3D%3D?line=12'>13</a>\u001b[0m inv_fourier\u001b[39m.\u001b[39mround()\n\u001b[1;32m     <a href='vscode-notebook-cell:/Users/yooseungkim/Library/Mobile%20Documents/com~apple~CloudDocs/College/Signals%20and%20Systems/PA/2d_fourier.ipynb#X54sZmlsZQ%3D%3D?line=13'>14</a>\u001b[0m \u001b[39mprint\u001b[39m(\u001b[39m\"\u001b[39m\u001b[39mprocess ended\u001b[39m\u001b[39m\"\u001b[39m)\n",
      "\u001b[0;31mTypeError\u001b[0m: Matrix.matmul() got an unexpected keyword argument 'reverse'"
     ]
    }
   ],
   "source": [
    "inv_fft = inverse_fft2(fft_img)"
   ]
  },
  {
   "cell_type": "code",
   "execution_count": null,
   "metadata": {},
   "outputs": [],
   "source": []
  }
 ],
 "metadata": {
  "kernelspec": {
   "display_name": "Python 3",
   "language": "python",
   "name": "python3"
  },
  "language_info": {
   "codemirror_mode": {
    "name": "ipython",
    "version": 3
   },
   "file_extension": ".py",
   "mimetype": "text/x-python",
   "name": "python",
   "nbconvert_exporter": "python",
   "pygments_lexer": "ipython3",
   "version": "3.10.6"
  },
  "orig_nbformat": 4
 },
 "nbformat": 4,
 "nbformat_minor": 2
}
